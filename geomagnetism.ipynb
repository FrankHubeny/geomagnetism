{
 "cells": [
  {
   "cell_type": "markdown",
   "id": "ce0fc19e-20c7-48a1-aaf4-d96f8c941b73",
   "metadata": {},
   "source": [
    "# Exploring Russell Humphreys geomagnetism and water connection"
   ]
  },
  {
   "cell_type": "code",
   "execution_count": 1,
   "id": "3715f4d6-92b5-42f1-9db4-40e78606088f",
   "metadata": {},
   "outputs": [],
   "source": [
    "from astropy.constants import M_earth     # mass of the Earth\n",
    "from astropy.constants import M_jup       # mass of Jupiter\n",
    "from astropy.constants import M_sun       # mass of the Sun\n",
    "from astropy.constants import m_e         # mass of an electron\n",
    "from astropy.constants import m_n         # mass of a neutron\n",
    "from astropy.constants import m_p         # mass of a proton\n",
    "from astropy.constants import R_earth     # radius of the Earth\n",
    "from astropy.constants import N_A         # Avogadro's number\n",
    "from astropy.constants import u           # Atomic mass\n",
    "from astropy.constants import mu0         # vacuum magnetic permeability\n",
    "from astropy.constants import eps0        # vacuum electric permittivity\n",
    "from astropy.constants import Constant    # constant constructor\n",
    "from astropy.constants import EMConstant  # electromagnetic constant constructor\n",
    "import astropy.units as u\n",
    "from astropy.units import Quantity\n",
    "from astropy.table import QTable\n",
    "from astropy.time import Time\n",
    "from astropy.nddata import NDData\n",
    "import typing as T\n",
    "from astropy import find_api_page\n",
    "import numpy as np\n",
    "import math\n",
    "import datetime"
   ]
  },
  {
   "cell_type": "code",
   "execution_count": 2,
   "id": "51d79003-c765-49e7-8ae5-e7219007d2b8",
   "metadata": {},
   "outputs": [],
   "source": [
    "\"\"\"\n",
    "The proton magnetic moment I obtained from\n",
    "https://physics.nist.gov/cuu/pdf/wall_2018.pdf\n",
    "and defined it using astropy.constants EMConstant.\n",
    "\"\"\"\n",
    "\n",
    "muP = EMConstant(\n",
    "    abbrev      = \"muP\", \n",
    "    name        = \"Proton magnetic moment\", \n",
    "    value       = 1.41060679736e-26, \n",
    "    unit        = u.J / u.T, \n",
    "    uncertainty = 0.00000000060e-26, \n",
    "    reference   = \"CODATA 2018\", \n",
    "    system      = \"si\"\n",
    ")\n",
    "\n",
    "\"\"\"\n",
    "The atomic mass of an oxygen atom.\n",
    "https://physics.nist.gov/cgi-bin/Elements/elInfo.pl?element=8\n",
    "\"\"\"\n",
    "\n",
    "m_O = Constant(\n",
    "    abbrev      = \"m_O\",\n",
    "    name        = \"Oxygen atomic mass\",\n",
    "    value       = 15.99940,\n",
    "    unit        = u.g / u.mol,\n",
    "    uncertainty = 0.00037,\n",
    "    reference   = \"NIST https://physics.nist.gov/cgi-bin/Elements/elInfo.pl?element=8\"\n",
    ")\n",
    "\n",
    "\"\"\"\n",
    "The atomic mass of a hydrogen atom.\n",
    "https://physics.nist.gov/cgi-bin/Elements/elInfo.pl?element=1\n",
    "\"\"\"\n",
    "\n",
    "m_H = Constant(\n",
    "    abbrev      = \"m_H\",\n",
    "    name        = \"Hydrogen atomic mass\",\n",
    "    value       = 1.007975,\n",
    "    unit        = u.g / u.mol,\n",
    "    uncertainty = 0.000135,\n",
    "    reference   = \"NIST https://physics.nist.gov/cgi-bin/Elements/elInfo.pl?element=1\"\n",
    ")\n",
    "\n",
    "M_water = Constant(\n",
    "    abbrev      = \"M_water\",\n",
    "    name        = \"Mass of a water molecule\",\n",
    "    value       = ((2 * m_H + m_O) / N_A).to(u.kg),\n",
    "    unit        = u.kg,\n",
    "    uncertainty = 0,\n",
    "    reference   = \"Derived from m_H, m_O and N_A\"\n",
    ")\n",
    "\n",
    "\"\"\"\n",
    "The radius of the Earth's core.\n",
    "\"\"\"\n",
    "\n",
    "R_earth_core = Constant(\n",
    "    abbrev      = \"R_earth_core\",\n",
    "    name        = \"Radius Earth's Core\",\n",
    "    value       = 3471,\n",
    "    unit        = u.km,\n",
    "    uncertainty = 0,\n",
    "    reference   = \"D. Russell Humphrey\"\n",
    ")\n",
    "\n",
    "\"\"\"\n",
    "The following are constants used in Humphreys' papers which I will use to check the algorithms are correct\n",
    "and to verify that Humphreys' data is correct.\n",
    "\n",
    "All of thesse constants can be identified with a final \"_H\" in their abbreviation\n",
    "\"\"\"\n",
    "\n",
    "R_earth_H = Constant(\n",
    "    abbrev      = \"R_earth_H\",\n",
    "    name        = \"Humphreys' Earth radius\",\n",
    "    value       = 6371.2,\n",
    "    unit        = u.km,\n",
    "    uncertainty = 0,\n",
    "    reference   = \"D. Russell Humphreys, The Earth's Magnetic Field is Still Losing Energy, CRSQ 39, 2002, p.6\"\n",
    ")\n",
    "\n",
    "R_earth_core_H = Constant(\n",
    "    abbrev      = \"R_earth_core_H\",\n",
    "    name        = \"Humphreys' Earth radius core\",\n",
    "    value       = 3471,\n",
    "    unit        = u.km,\n",
    "    uncertainty = 0,\n",
    "    reference   = \"D. Russell Humphreys, The Earth's Magnetic Field is Still Losing Energy, CRSQ 39, 2002, p.8\"\n",
    ")\n",
    "\n",
    "mu0_H = Constant(\n",
    "    abbrev      = \"mu0_H\",\n",
    "    name        = \"Humphreys' vacuum magnetic permeability\",\n",
    "    value       = 4 * math.pi * 1e-7,\n",
    "    unit        = u.henry / u.meter,\n",
    "    uncertainty = 0,\n",
    "    reference   = \"D. Russell Humphreys, The Creation of Earth's Magnetic Field, CRSQ 20, 1983, p.92\"\n",
    ")\n"
   ]
  },
  {
   "cell_type": "code",
   "execution_count": 3,
   "id": "bd8266ef-908d-497c-a60c-acefc61ecdb4",
   "metadata": {},
   "outputs": [
    {
     "name": "stdout",
     "output_type": "stream",
     "text": [
      "M_earth\n",
      "  Name   = Earth mass\n",
      "  Value  = 5.972167867791379e+24\n",
      "  Uncertainty  = 1.3422009501651213e+20\n",
      "  Unit  = kg\n",
      "  Reference = IAU 2015 Resolution B 3 + CODATA 2018\n",
      "\n",
      "M_jup\n",
      "  Name   = Jupiter mass\n",
      "  Value  = 1.8981245973360505e+27\n",
      "  Uncertainty  = 4.26589589320839e+22\n",
      "  Unit  = kg\n",
      "  Reference = IAU 2015 Resolution B 3 + CODATA 2018\n",
      "\n",
      "M_sun\n",
      "  Name   = Solar mass\n",
      "  Value  = 1.988409870698051e+30\n",
      "  Uncertainty  = 4.468805426856864e+25\n",
      "  Unit  = kg\n",
      "  Reference = IAU 2015 Resolution B 3 + CODATA 2018\n",
      "\n",
      "m_e\n",
      "  Name   = Electron mass\n",
      "  Value  = 9.1093837015e-31\n",
      "  Uncertainty  = 2.8e-40\n",
      "  Unit  = kg\n",
      "  Reference = CODATA 2018\n",
      "\n",
      "m_n\n",
      "  Name   = Neutron mass\n",
      "  Value  = 1.67492749804e-27\n",
      "  Uncertainty  = 9.5e-37\n",
      "  Unit  = kg\n",
      "  Reference = CODATA 2018\n",
      "\n",
      "m_p\n",
      "  Name   = Proton mass\n",
      "  Value  = 1.67262192369e-27\n",
      "  Uncertainty  = 5.1e-37\n",
      "  Unit  = kg\n",
      "  Reference = CODATA 2018\n",
      "\n",
      "R_earth\n",
      "  Name   = Nominal Earth equatorial radius\n",
      "  Value  = 6378100.0\n",
      "  Uncertainty  = 0.0\n",
      "  Unit  = m\n",
      "  Reference = IAU 2015 Resolution B 3\n",
      "\n",
      "R_earth_H\n",
      "  Name   = Humphreys' Earth radius\n",
      "  Value  = 6371.2\n",
      "  Uncertainty  = 0\n",
      "  Unit  = km\n",
      "  Reference = D. Russell Humphreys, The Earth's Magnetic Field is Still Losing Energy, CRSQ 39, 2002, p.6\n",
      "\n",
      "R_earth_core\n",
      "  Name   = Radius Earth's Core\n",
      "  Value  = 3471\n",
      "  Uncertainty  = 0\n",
      "  Unit  = km\n",
      "  Reference = D. Russell Humphrey\n",
      "\n",
      "R_earth_core_H\n",
      "  Name   = Humphreys' Earth radius core\n",
      "  Value  = 3471\n",
      "  Uncertainty  = 0\n",
      "  Unit  = km\n",
      "  Reference = D. Russell Humphreys, The Earth's Magnetic Field is Still Losing Energy, CRSQ 39, 2002, p.8\n",
      "\n",
      "N_A\n",
      "  Name   = Avogadro's number\n",
      "  Value  = 6.02214076e+23\n",
      "  Uncertainty  = 0.0\n",
      "  Unit  = 1 / mol\n",
      "  Reference = CODATA 2018\n",
      "\n",
      "mu0\n",
      "  Name   = Vacuum magnetic permeability\n",
      "  Value  = 1.25663706212e-06\n",
      "  Uncertainty  = 1.9e-16\n",
      "  Unit  = N / A2\n",
      "  Reference = CODATA 2018\n",
      "\n",
      "mu0_H\n",
      "  Name   = Humphreys' vacuum magnetic permeability\n",
      "  Value  = 1.2566370614359173e-06\n",
      "  Uncertainty  = 0\n",
      "  Unit  = H / m\n",
      "  Reference = D. Russell Humphreys, The Creation of Earth's Magnetic Field, CRSQ 20, 1983, p.92\n",
      "\n",
      "eps0\n",
      "  Name   = Vacuum electric permittivity\n",
      "  Value  = 8.8541878128e-12\n",
      "  Uncertainty  = 1.3e-21\n",
      "  Unit  = F / m\n",
      "  Reference = CODATA 2018\n",
      "\n",
      "muP\n",
      "  Name   = Proton magnetic moment\n",
      "  Value  = 1.41060679736e-26\n",
      "  Uncertainty  = 6e-36\n",
      "  Unit  = J / T\n",
      "  Reference = CODATA 2018\n",
      "\n",
      "m_O\n",
      "  Name   = Oxygen atomic mass\n",
      "  Value  = 15.9994\n",
      "  Uncertainty  = 0.00037\n",
      "  Unit  = g / mol\n",
      "  Reference = NIST https://physics.nist.gov/cgi-bin/Elements/elInfo.pl?element=8\n",
      "\n",
      "m_H\n",
      "  Name   = Hydrogen atomic mass\n",
      "  Value  = 1.007975\n",
      "  Uncertainty  = 0.000135\n",
      "  Unit  = g / mol\n",
      "  Reference = NIST https://physics.nist.gov/cgi-bin/Elements/elInfo.pl?element=1\n",
      "\n",
      "M_water\n",
      "  Name   = Mass of a water molecule\n",
      "  Value  = 2.991519248381036e-26\n",
      "  Uncertainty  = 0\n",
      "  Unit  = kg\n",
      "  Reference = Derived from m_H, m_O and N_A\n",
      "\n"
     ]
    }
   ],
   "source": [
    "# Displaying all of the constants\n",
    "\n",
    "for i in (M_earth, M_jup, M_sun, m_e, m_n, m_p, R_earth, R_earth_H, R_earth_core, R_earth_core_H, N_A, mu0, mu0_H, eps0, muP, m_O, m_H, M_water):\n",
    "    print(i.abbrev)\n",
    "    print(i)\n",
    "    print()"
   ]
  },
  {
   "cell_type": "code",
   "execution_count": 4,
   "id": "3fbef6e7-b597-48e1-a92d-82e9fc17d8ed",
   "metadata": {},
   "outputs": [],
   "source": [
    "# Derived quantities\n",
    "muW = 2 * muP                              # Water magnetic moment\n",
    "#M_water = ((2 * m_H + m_O) / N_A).to(u.kg) # Water mass, see https://sciencenotes.org/calculate-the-mass-in-grams-of-a-single-water-molecule/\n",
    "#n = M_earth / M_water                      # Number of water molecules equivalent to Earth's mass\n",
    "\n",
    "\"\"\"\n",
    "k is the fraction of hydrogen atoms which are aligned.  It ranges from 0 to 1.\n",
    "n is the number of water molecules if the entire mass of the Earth were water.\n",
    "\n",
    "Return: The magnetic moment of that fraction of water.\n",
    "\"\"\"\n",
    "\n",
    "#def mu_earth_creation(k):\n",
    "#    return 2 * k * n * muP\n",
    "\n",
    "def mu_creation(k, mass):\n",
    "    return 2 * k * (mass / M_water) * muP\n",
    "\n",
    "\"\"\"\n",
    "k is the fraction of hydrogen atoms which are aligned.  It ranges from 0 to 1.\n",
    "mu is the current magnetic moment of the Earth.\n",
    "BC is the year BC when creation occurred.\n",
    "\n",
    "Return: The rate of decay of the magnetic field.\n",
    "\"\"\"\n",
    "\n",
    "def rate_decay(k, mu, mass, BC):\n",
    "    original_mu = mu_creation(k, mass)\n",
    "    return - (BC + datetime.date.today().year - 1) / (math.log(mu, math.e) - math.log(original_mu.value, math.e))\n",
    "    \n"
   ]
  },
  {
   "cell_type": "code",
   "execution_count": 5,
   "id": "d790af71-8334-45da-a923-951c363d7936",
   "metadata": {},
   "outputs": [
    {
     "data": {
      "text/plain": [
       "2092.3386644988973"
      ]
     },
     "execution_count": 5,
     "metadata": {},
     "output_type": "execute_result"
    }
   ],
   "source": [
    "current_mu = 7.9e22\n",
    "r25_4004 = rate_decay(0.25, current_mu, M_earth, 4004)\n",
    "r25_4004"
   ]
  },
  {
   "cell_type": "code",
   "execution_count": 6,
   "id": "cbb308fd-1134-4439-ae0a-7d5aede40fe1",
   "metadata": {},
   "outputs": [
    {
     "data": {
      "text/html": [
       "<i>QTable length=4</i>\n",
       "<table id=\"table1866148051088-373704\" class=\"table-striped table-bordered table-condensed\">\n",
       "<thead><tr><th>idx</th><th>k</th><th>Creation Magnetic Moment</th><th>3822 BC</th><th>4004 BC</th><th>5554 BC</th><th>5665 BC</th></tr></thead>\n",
       "<thead><tr><th></th><th></th><th>J / T</th><th></th><th></th><th></th><th></th></tr></thead>\n",
       "<tr><td>0</td><td>0.25</td><td>1.40804e+24</td><td>2029.2</td><td>2092.3</td><td>2630.4</td><td>2669.0</td></tr>\n",
       "<tr><td>1</td><td>0.50</td><td>2.81609e+24</td><td>1635.6</td><td>1686.5</td><td>2120.2</td><td>2151.3</td></tr>\n",
       "<tr><td>2</td><td>0.75</td><td>4.22413e+24</td><td>1468.9</td><td>1514.7</td><td>1904.2</td><td>1932.1</td></tr>\n",
       "<tr><td>3</td><td>1.00</td><td>5.63218e+24</td><td>1369.9</td><td>1412.5</td><td>1775.8</td><td>1801.8</td></tr>\n",
       "</table><style>table.dataTable {clear: both; width: auto !important; margin: 0 !important;}\n",
       ".dataTables_info, .dataTables_length, .dataTables_filter, .dataTables_paginate{\n",
       "display: inline-block; margin-right: 1em; }\n",
       ".paginate_button { margin-right: 5px; }\n",
       "</style>\n",
       "<script>\n",
       "\n",
       "var astropy_sort_num = function(a, b) {\n",
       "    var a_num = parseFloat(a);\n",
       "    var b_num = parseFloat(b);\n",
       "\n",
       "    if (isNaN(a_num) && isNaN(b_num))\n",
       "        return ((a < b) ? -1 : ((a > b) ? 1 : 0));\n",
       "    else if (!isNaN(a_num) && !isNaN(b_num))\n",
       "        return ((a_num < b_num) ? -1 : ((a_num > b_num) ? 1 : 0));\n",
       "    else\n",
       "        return isNaN(a_num) ? -1 : 1;\n",
       "}\n",
       "\n",
       "require.config({paths: {\n",
       "    datatables: 'https://cdn.datatables.net/1.10.12/js/jquery.dataTables.min'\n",
       "}});\n",
       "require([\"datatables\"], function(){\n",
       "    console.log(\"$('#table1866148051088-373704').dataTable()\");\n",
       "    \n",
       "jQuery.extend( jQuery.fn.dataTableExt.oSort, {\n",
       "    \"optionalnum-asc\": astropy_sort_num,\n",
       "    \"optionalnum-desc\": function (a,b) { return -astropy_sort_num(a, b); }\n",
       "});\n",
       "\n",
       "    $('#table1866148051088-373704').dataTable({\n",
       "        order: [],\n",
       "        pageLength: 50,\n",
       "        lengthMenu: [[10, 25, 50, 100, 500, 1000, -1], [10, 25, 50, 100, 500, 1000, 'All']],\n",
       "        pagingType: \"full_numbers\",\n",
       "        columnDefs: [{targets: [0, 1, 2, 3, 4, 5, 6], type: \"optionalnum\"}]\n",
       "    });\n",
       "});\n",
       "</script>\n"
      ],
      "text/plain": [
       "<IPython.core.display.HTML object>"
      ]
     },
     "execution_count": 6,
     "metadata": {},
     "output_type": "execute_result"
    }
   ],
   "source": [
    "# https://creation.com/biblical-age-of-the-earth\n",
    "\n",
    "a = np.array([0.25, \n",
    "              0.50, \n",
    "              0.75, \n",
    "              1.00]\n",
    "            )\n",
    "b = [mu_creation(0.25, M_earth), \n",
    "     mu_creation(0.50, M_earth), \n",
    "     mu_creation(0.75, M_earth), \n",
    "     mu_creation(1, M_earth)\n",
    "    ] \n",
    "current_mu = 7.9e22\n",
    "c = [rate_decay(0.25, current_mu, M_earth, 3822), \n",
    "     rate_decay(0.50, current_mu, M_earth, 3822), \n",
    "     rate_decay(0.75, current_mu, M_earth, 3822), \n",
    "     rate_decay(1, current_mu, M_earth, 3822)\n",
    "    ]\n",
    "d = [rate_decay(0.25, current_mu, M_earth, 4004), \n",
    "     rate_decay(0.50, current_mu, M_earth, 4004), \n",
    "     rate_decay(0.75, current_mu, M_earth, 4004), \n",
    "     rate_decay(1, current_mu, M_earth, 4004)\n",
    "    ]\n",
    "e = [rate_decay(0.25, current_mu, M_earth, 5554), \n",
    "     rate_decay(0.50, current_mu, M_earth, 5554), \n",
    "     rate_decay(0.75, current_mu, M_earth, 5554), \n",
    "     rate_decay(1, current_mu, M_earth, 5554)\n",
    "    ]\n",
    "f = [rate_decay(0.25, current_mu, M_earth, 5665), \n",
    "     rate_decay(0.50, current_mu, M_earth, 5665), \n",
    "     rate_decay(0.75, current_mu, M_earth, 5665), \n",
    "     rate_decay(1, current_mu, M_earth, 5665)\n",
    "    ]\n",
    "\n",
    "t = QTable([a, b, c, d, e, f],\n",
    "           names=('k', \n",
    "                  'Creation Magnetic Moment', \n",
    "                  '3822 BC', \n",
    "                  '4004 BC', \n",
    "                  '5554 BC', \n",
    "                  '5665 BC'\n",
    "                 ),\n",
    "           meta={'name': 'first table'})\n",
    "t['k'].info.format = '1.2f'\n",
    "t['Creation Magnetic Moment'].info.format = '1.6g'\n",
    "t['3822 BC'].info.format = '4.1f'\n",
    "t['4004 BC'].info.format = '4.1f'\n",
    "t['5554 BC'].info.format = '4.1f'\n",
    "t['5665 BC'].info.format = '4.1f'\n",
    "t.show_in_notebook()"
   ]
  },
  {
   "cell_type": "markdown",
   "id": "563a55ae-b470-4da8-8aae-22ee86860f68",
   "metadata": {},
   "source": [
    "## D. Russell Humphreys, The Creation of the Earth's Magnetic Field, Creation Research Society Quarterly Vol 20, Sept 1983"
   ]
  },
  {
   "cell_type": "code",
   "execution_count": 7,
   "id": "1a14937a-977a-4f7e-9e8e-2576238a9166",
   "metadata": {},
   "outputs": [
    {
     "name": "stdout",
     "output_type": "stream",
     "text": [
      "0.0000000000000000000000000141000000000 J / T\n",
      "0.0000000000000000000000000141060679736 J / T\n",
      "0.0000000000000000000000000000060679676 J / T\n",
      "0.0000000000000000000000000000060679796 J / T\n",
      "0.0000000000000000000000000000000000120 J / T\n"
     ]
    }
   ],
   "source": [
    "# page 90\n",
    "hmuP = 1.41e-26 * u.J / u.T\n",
    "ldiff = muP - (muP.uncertainty * muP.unit) - hmuP\n",
    "hdiff = muP + (muP.uncertainty * muP.unit) - hmuP\n",
    "print('{0:.37f}'.format(hmuP))\n",
    "print('{0:.37f}'.format(muP))\n",
    "print('{0:.37f}'.format(ldiff))\n",
    "print('{0:.37f}'.format(hdiff))\n",
    "print('{0:.37f}'.format(hdiff-ldiff))"
   ]
  },
  {
   "cell_type": "code",
   "execution_count": 8,
   "id": "0fcae670-ace9-43b3-95de-db04a9d6ae9d",
   "metadata": {},
   "outputs": [
    {
     "name": "stdout",
     "output_type": "stream",
     "text": [
      "0.0000000000000000000000000299151924838 kg my calc water mass\n",
      "0.0000000000000000000000000299200000000 kg Humphreys water mass\n",
      "5972167867791379215155200 kg CODATA 2018 Earth mass\n",
      "5976000000000000419430400 kg Humphreys Earth mass\n"
     ]
    }
   ],
   "source": [
    "k = 0.25\n",
    "hM_water = 2.992e-26 * u.kg\n",
    "print('{0:.37f} my calc water mass'.format(M_water))\n",
    "print('{0:.37f} Humphreys water mass'.format(hM_water))\n",
    "hM_earth = 5.976e24 * u.kg\n",
    "print('{0:.0f} CODATA 2018 Earth mass'.format(M_earth))\n",
    "print('{0:.0f} Humphreys Earth mass'.format(hM_earth))\n",
    "hn = hM_earth / hM_water"
   ]
  },
  {
   "cell_type": "code",
   "execution_count": 9,
   "id": "a5bfb8f5-f4f8-4335-ac1a-87d3d0a4ba16",
   "metadata": {},
   "outputs": [
    {
     "name": "stdout",
     "output_type": "stream",
     "text": [
      "1408043854947722987569152 J / T Magnetic moment at creation\n",
      "1408114973262032180084736 J / T Humphreys magnetic moment at creation\n",
      "4224131564843169768013824 J / T k=0.75 magnetic moment at creation\n",
      "5632175419790891950276608 J / T Max magnetic moment at creation\n"
     ]
    }
   ],
   "source": [
    "n = M_earth / M_water\n",
    "max_mu_earth_creation = 2 * n * muP\n",
    "three_mu_earth_creation = 2 * 0.75 * n * muP\n",
    "mu_earth_creation = 2 * k * n * muP\n",
    "hmu_earth_creation = 2 * k * hn * hmuP\n",
    "print('{0:.0f} Magnetic moment at creation'.format(mu_earth_creation))\n",
    "print('{0:.0f} Humphreys magnetic moment at creation'.format(hmu_earth_creation))\n",
    "print('{0:.0f} k=0.75 magnetic moment at creation'.format(three_mu_earth_creation))\n",
    "print('{0:.0f} Max magnetic moment at creation'.format(max_mu_earth_creation))"
   ]
  },
  {
   "cell_type": "markdown",
   "id": "e5e8237e-d7ed-4856-a7e6-7b2ce12846fd",
   "metadata": {},
   "source": [
    "## D. Eisenberg and W. Kauzman, The Structure and Property of Water, 1969 https://archive.org/details/structurepropert0000deis"
   ]
  },
  {
   "cell_type": "code",
   "execution_count": 10,
   "id": "2b49052a-9e5b-45a6-b54e-2ca758af68fb",
   "metadata": {},
   "outputs": [],
   "source": [
    "t = 2049 \n",
    "low_t = 2049 - 79\n",
    "high_t = 2049 + 79\n",
    "M0 = 2.088e23 \n",
    "M = M0 * math.exp(-4000 / t)\n",
    "current_mu = 7.9e22\n",
    "years = 4000 + 2000"
   ]
  },
  {
   "cell_type": "code",
   "execution_count": 11,
   "id": "db6bf85a-c193-4912-ab0d-bd75112881d3",
   "metadata": {},
   "outputs": [
    {
     "name": "stdout",
     "output_type": "stream",
     "text": [
      "1.6609302760744483e+24 J / T\n",
      "1.4769073309232425e+24 J / T\n",
      "1.3247734261251525e+24 J / T\n"
     ]
    }
   ],
   "source": [
    "creation = current_mu / math.exp(-years / t) * u.J / u.T\n",
    "low_creation = current_mu / math.exp(-years / low_t) * u.J / u.T\n",
    "high_creation = current_mu / math.exp(-years / high_t) * u.J / u.T\n",
    "print(low_creation)\n",
    "print(creation)\n",
    "print(high_creation)"
   ]
  },
  {
   "cell_type": "code",
   "execution_count": 12,
   "id": "fd47c33e-6a60-4863-a303-563483a2fc83",
   "metadata": {},
   "outputs": [],
   "source": [
    "def creation_mu(years):\n",
    "    return current_mu / math.exp(-years / t) * u.J / u.T"
   ]
  },
  {
   "cell_type": "code",
   "execution_count": 13,
   "id": "d19a8432-8eef-41a6-ad4c-279ac6190635",
   "metadata": {},
   "outputs": [
    {
     "name": "stdout",
     "output_type": "stream",
     "text": [
      "3.0710351335825645e+24 J / T\n",
      "3.9197824535543413e+24 J / T\n",
      "1.040328946948061e+25 J / T\n"
     ]
    }
   ],
   "source": [
    "print(creation_mu(7500))\n",
    "print(creation_mu(8000))\n",
    "print(creation_mu(10000))"
   ]
  },
  {
   "cell_type": "code",
   "execution_count": 14,
   "id": "bc2efe11-18f8-4acc-a5b7-d735aa7ac212",
   "metadata": {},
   "outputs": [
    {
     "data": {
      "text/plain": [
       "(<Quantity 0.26518687>, <Quantity 1.49357899e+24 J / T>)"
      ]
     },
     "execution_count": 14,
     "metadata": {},
     "output_type": "execute_result"
    }
   ],
   "source": [
    "def creation_mu_k(years):\n",
    "    creation_mu = current_mu / math.exp( -years / t) * u.J / u.T\n",
    "    k = creation_mu / (2 * n * muP)\n",
    "    return (k, creation_mu)\n",
    "\n",
    "creation_mu_k(6023)"
   ]
  },
  {
   "cell_type": "code",
   "execution_count": 15,
   "id": "70ef61cb-ccde-4adb-98be-68ea61ff9956",
   "metadata": {},
   "outputs": [
    {
     "data": {
      "text/plain": [
       "(<Quantity 0.56587062>, <Quantity 3.18708258e+24 J / T>)"
      ]
     },
     "execution_count": 15,
     "metadata": {},
     "output_type": "execute_result"
    }
   ],
   "source": [
    "creation_mu_k(7576)"
   ]
  },
  {
   "cell_type": "code",
   "execution_count": 16,
   "id": "83d27708-8f0c-4fbd-b2a7-ac224df9d136",
   "metadata": {},
   "outputs": [
    {
     "data": {
      "text/plain": [
       "(<Quantity 0.69596242>, <Quantity 3.91978245e+24 J / T>)"
      ]
     },
     "execution_count": 16,
     "metadata": {},
     "output_type": "execute_result"
    }
   ],
   "source": [
    "creation_mu_k(8000)"
   ]
  },
  {
   "cell_type": "code",
   "execution_count": 17,
   "id": "ff02ecf3-252c-4ff3-b2c2-40636896757a",
   "metadata": {},
   "outputs": [
    {
     "data": {
      "text/plain": [
       "(<Quantity 1.84711744>, <Quantity 1.04032895e+25 J / T>)"
      ]
     },
     "execution_count": 17,
     "metadata": {},
     "output_type": "execute_result"
    }
   ],
   "source": [
    "creation_mu_k(10000)"
   ]
  },
  {
   "cell_type": "markdown",
   "id": "97f58128-c26f-4ca1-8131-6034e098f4de",
   "metadata": {},
   "source": [
    "# IGRF Data\n",
    "\n",
    "International Geomagnetic Reference Field: the 13th generation, Alken, P., Thébault, E., Beggan, C.D. et al. International Geomagnetic Reference Field: the thirteenth generation. Earth Planets Space 73, 49 (2021). doi: 10.1186/s40623-020-01288-x\n",
    "\n",
    "https://www.ncei.noaa.gov/products/international-geomagnetic-reference-field"
   ]
  },
  {
   "cell_type": "code",
   "execution_count": 94,
   "id": "381c3c0c-31a5-4d20-a17e-2ecc7fde76dc",
   "metadata": {},
   "outputs": [
    {
     "name": "stdout",
     "output_type": "stream",
     "text": [
      "IGRF13\n"
     ]
    },
    {
     "data": {
      "text/html": [
       "<div><i>QTable length=195</i>\n",
       "<table id=\"table1866128126704\" class=\"table-striped table-bordered table-condensed\">\n",
       "<thead><tr><th>gh</th><th>n</th><th>m</th><th>1900.0</th><th>1905.0</th><th>1910.0</th><th>1915.0</th><th>1920.0</th><th>1925.0</th><th>1930.0</th><th>1935.0</th><th>1940.0</th><th>1945.0</th><th>1950.0</th><th>1955.0</th><th>1960.0</th><th>1965.0</th><th>1970.0</th><th>1975.0</th><th>1980.0</th><th>1985.0</th><th>1990.0</th><th>1995.0</th><th>2000.0</th><th>2005.0</th><th>2010.0</th><th>2015.0</th><th>2020.0</th><th>2020-25</th></tr></thead>\n",
       "<thead><tr><th></th><th></th><th></th><th>nT</th><th>nT</th><th>nT</th><th>nT</th><th>nT</th><th>nT</th><th>nT</th><th>nT</th><th>nT</th><th>nT</th><th>nT</th><th>nT</th><th>nT</th><th>nT</th><th>nT</th><th>nT</th><th>nT</th><th>nT</th><th>nT</th><th>nT</th><th>nT</th><th>nT</th><th>nT</th><th>nT</th><th>nT</th><th>nT / yr</th></tr></thead>\n",
       "<thead><tr><th>str1</th><th>float64</th><th>float64</th><th>float64</th><th>float64</th><th>float64</th><th>float64</th><th>float64</th><th>float64</th><th>float64</th><th>float64</th><th>float64</th><th>float64</th><th>float64</th><th>float64</th><th>float64</th><th>float64</th><th>float64</th><th>float64</th><th>float64</th><th>float64</th><th>float64</th><th>float64</th><th>float64</th><th>float64</th><th>float64</th><th>float64</th><th>float64</th><th>float64</th></tr></thead>\n",
       "<tr><td>g</td><td>1.0</td><td>0.0</td><td>-31543.0</td><td>-31464.0</td><td>-31354.0</td><td>-31212.0</td><td>-31060.0</td><td>-30926.0</td><td>-30805.0</td><td>-30715.0</td><td>-30654.0</td><td>-30594.0</td><td>-30554.0</td><td>-30500.0</td><td>-30421.0</td><td>-30334.0</td><td>-30220.0</td><td>-30100.0</td><td>-29992.0</td><td>-29873.0</td><td>-29775.0</td><td>-29692.0</td><td>-29619.4</td><td>-29554.63</td><td>-29496.57</td><td>-29441.46</td><td>-29404.8</td><td>5.7</td></tr>\n",
       "<tr><td>g</td><td>1.0</td><td>1.0</td><td>-2298.0</td><td>-2298.0</td><td>-2297.0</td><td>-2306.0</td><td>-2317.0</td><td>-2318.0</td><td>-2316.0</td><td>-2306.0</td><td>-2292.0</td><td>-2285.0</td><td>-2250.0</td><td>-2215.0</td><td>-2169.0</td><td>-2119.0</td><td>-2068.0</td><td>-2013.0</td><td>-1956.0</td><td>-1905.0</td><td>-1848.0</td><td>-1784.0</td><td>-1728.2</td><td>-1669.05</td><td>-1586.42</td><td>-1501.77</td><td>-1450.9</td><td>7.4</td></tr>\n",
       "<tr><td>h</td><td>1.0</td><td>1.0</td><td>5922.0</td><td>5909.0</td><td>5898.0</td><td>5875.0</td><td>5845.0</td><td>5817.0</td><td>5808.0</td><td>5812.0</td><td>5821.0</td><td>5810.0</td><td>5815.0</td><td>5820.0</td><td>5791.0</td><td>5776.0</td><td>5737.0</td><td>5675.0</td><td>5604.0</td><td>5500.0</td><td>5406.0</td><td>5306.0</td><td>5186.1</td><td>5077.99</td><td>4944.26</td><td>4795.99</td><td>4652.5</td><td>-25.9</td></tr>\n",
       "<tr><td>g</td><td>2.0</td><td>0.0</td><td>-677.0</td><td>-728.0</td><td>-769.0</td><td>-802.0</td><td>-839.0</td><td>-893.0</td><td>-951.0</td><td>-1018.0</td><td>-1106.0</td><td>-1244.0</td><td>-1341.0</td><td>-1440.0</td><td>-1555.0</td><td>-1662.0</td><td>-1781.0</td><td>-1902.0</td><td>-1997.0</td><td>-2072.0</td><td>-2131.0</td><td>-2200.0</td><td>-2267.7</td><td>-2337.24</td><td>-2396.06</td><td>-2445.88</td><td>-2499.6</td><td>-11.0</td></tr>\n",
       "<tr><td>g</td><td>2.0</td><td>1.0</td><td>2905.0</td><td>2928.0</td><td>2948.0</td><td>2956.0</td><td>2959.0</td><td>2969.0</td><td>2980.0</td><td>2984.0</td><td>2981.0</td><td>2990.0</td><td>2998.0</td><td>3003.0</td><td>3002.0</td><td>2997.0</td><td>3000.0</td><td>3010.0</td><td>3027.0</td><td>3044.0</td><td>3059.0</td><td>3070.0</td><td>3068.4</td><td>3047.69</td><td>3026.34</td><td>3012.2</td><td>2982.0</td><td>-7.0</td></tr>\n",
       "<tr><td>h</td><td>2.0</td><td>1.0</td><td>-1061.0</td><td>-1086.0</td><td>-1128.0</td><td>-1191.0</td><td>-1259.0</td><td>-1334.0</td><td>-1424.0</td><td>-1520.0</td><td>-1614.0</td><td>-1702.0</td><td>-1810.0</td><td>-1898.0</td><td>-1967.0</td><td>-2016.0</td><td>-2047.0</td><td>-2067.0</td><td>-2129.0</td><td>-2197.0</td><td>-2279.0</td><td>-2366.0</td><td>-2481.6</td><td>-2594.5</td><td>-2708.54</td><td>-2845.41</td><td>-2991.6</td><td>-30.2</td></tr>\n",
       "<tr><td>g</td><td>2.0</td><td>2.0</td><td>924.0</td><td>1041.0</td><td>1176.0</td><td>1309.0</td><td>1407.0</td><td>1471.0</td><td>1517.0</td><td>1550.0</td><td>1566.0</td><td>1578.0</td><td>1576.0</td><td>1581.0</td><td>1590.0</td><td>1594.0</td><td>1611.0</td><td>1632.0</td><td>1663.0</td><td>1687.0</td><td>1686.0</td><td>1681.0</td><td>1670.9</td><td>1657.76</td><td>1668.17</td><td>1676.35</td><td>1677.0</td><td>-2.1</td></tr>\n",
       "<tr><td>h</td><td>2.0</td><td>2.0</td><td>1121.0</td><td>1065.0</td><td>1000.0</td><td>917.0</td><td>823.0</td><td>728.0</td><td>644.0</td><td>586.0</td><td>528.0</td><td>477.0</td><td>381.0</td><td>291.0</td><td>206.0</td><td>114.0</td><td>25.0</td><td>-68.0</td><td>-200.0</td><td>-306.0</td><td>-373.0</td><td>-413.0</td><td>-458.0</td><td>-515.43</td><td>-575.73</td><td>-642.17</td><td>-734.6</td><td>-22.4</td></tr>\n",
       "<tr><td>g</td><td>3.0</td><td>0.0</td><td>1022.0</td><td>1037.0</td><td>1058.0</td><td>1084.0</td><td>1111.0</td><td>1140.0</td><td>1172.0</td><td>1206.0</td><td>1240.0</td><td>1282.0</td><td>1297.0</td><td>1302.0</td><td>1302.0</td><td>1297.0</td><td>1287.0</td><td>1276.0</td><td>1281.0</td><td>1296.0</td><td>1314.0</td><td>1335.0</td><td>1339.6</td><td>1336.3</td><td>1339.85</td><td>1350.33</td><td>1363.2</td><td>2.2</td></tr>\n",
       "<tr><td>...</td><td>...</td><td>...</td><td>...</td><td>...</td><td>...</td><td>...</td><td>...</td><td>...</td><td>...</td><td>...</td><td>...</td><td>...</td><td>...</td><td>...</td><td>...</td><td>...</td><td>...</td><td>...</td><td>...</td><td>...</td><td>...</td><td>...</td><td>...</td><td>...</td><td>...</td><td>...</td><td>...</td><td>...</td></tr>\n",
       "<tr><td>g</td><td>13.0</td><td>9.0</td><td>0.0</td><td>0.0</td><td>0.0</td><td>0.0</td><td>0.0</td><td>0.0</td><td>0.0</td><td>0.0</td><td>0.0</td><td>0.0</td><td>0.0</td><td>0.0</td><td>0.0</td><td>0.0</td><td>0.0</td><td>0.0</td><td>0.0</td><td>0.0</td><td>0.0</td><td>0.0</td><td>0.3</td><td>0.35</td><td>0.38</td><td>0.38</td><td>0.4</td><td>0.0</td></tr>\n",
       "<tr><td>h</td><td>13.0</td><td>9.0</td><td>0.0</td><td>0.0</td><td>0.0</td><td>0.0</td><td>0.0</td><td>0.0</td><td>0.0</td><td>0.0</td><td>0.0</td><td>0.0</td><td>0.0</td><td>0.0</td><td>0.0</td><td>0.0</td><td>0.0</td><td>0.0</td><td>0.0</td><td>0.0</td><td>0.0</td><td>0.0</td><td>0.6</td><td>0.53</td><td>0.49</td><td>0.48</td><td>0.5</td><td>0.0</td></tr>\n",
       "<tr><td>g</td><td>13.0</td><td>10.0</td><td>0.0</td><td>0.0</td><td>0.0</td><td>0.0</td><td>0.0</td><td>0.0</td><td>0.0</td><td>0.0</td><td>0.0</td><td>0.0</td><td>0.0</td><td>0.0</td><td>0.0</td><td>0.0</td><td>0.0</td><td>0.0</td><td>0.0</td><td>0.0</td><td>0.0</td><td>0.0</td><td>-0.1</td><td>-0.05</td><td>0.02</td><td>0.08</td><td>0.1</td><td>0.0</td></tr>\n",
       "<tr><td>h</td><td>13.0</td><td>10.0</td><td>0.0</td><td>0.0</td><td>0.0</td><td>0.0</td><td>0.0</td><td>0.0</td><td>0.0</td><td>0.0</td><td>0.0</td><td>0.0</td><td>0.0</td><td>0.0</td><td>0.0</td><td>0.0</td><td>0.0</td><td>0.0</td><td>0.0</td><td>0.0</td><td>0.0</td><td>0.0</td><td>0.3</td><td>0.38</td><td>0.44</td><td>0.48</td><td>0.5</td><td>0.0</td></tr>\n",
       "<tr><td>g</td><td>13.0</td><td>11.0</td><td>0.0</td><td>0.0</td><td>0.0</td><td>0.0</td><td>0.0</td><td>0.0</td><td>0.0</td><td>0.0</td><td>0.0</td><td>0.0</td><td>0.0</td><td>0.0</td><td>0.0</td><td>0.0</td><td>0.0</td><td>0.0</td><td>0.0</td><td>0.0</td><td>0.0</td><td>0.0</td><td>0.4</td><td>0.41</td><td>0.42</td><td>0.46</td><td>0.5</td><td>0.0</td></tr>\n",
       "<tr><td>h</td><td>13.0</td><td>11.0</td><td>0.0</td><td>0.0</td><td>0.0</td><td>0.0</td><td>0.0</td><td>0.0</td><td>0.0</td><td>0.0</td><td>0.0</td><td>0.0</td><td>0.0</td><td>0.0</td><td>0.0</td><td>0.0</td><td>0.0</td><td>0.0</td><td>0.0</td><td>0.0</td><td>0.0</td><td>0.0</td><td>-0.2</td><td>-0.22</td><td>-0.25</td><td>-0.3</td><td>-0.4</td><td>0.0</td></tr>\n",
       "<tr><td>g</td><td>13.0</td><td>12.0</td><td>0.0</td><td>0.0</td><td>0.0</td><td>0.0</td><td>0.0</td><td>0.0</td><td>0.0</td><td>0.0</td><td>0.0</td><td>0.0</td><td>0.0</td><td>0.0</td><td>0.0</td><td>0.0</td><td>0.0</td><td>0.0</td><td>0.0</td><td>0.0</td><td>0.0</td><td>0.0</td><td>0.0</td><td>-0.1</td><td>-0.26</td><td>-0.35</td><td>-0.5</td><td>0.0</td></tr>\n",
       "<tr><td>h</td><td>13.0</td><td>12.0</td><td>0.0</td><td>0.0</td><td>0.0</td><td>0.0</td><td>0.0</td><td>0.0</td><td>0.0</td><td>0.0</td><td>0.0</td><td>0.0</td><td>0.0</td><td>0.0</td><td>0.0</td><td>0.0</td><td>0.0</td><td>0.0</td><td>0.0</td><td>0.0</td><td>0.0</td><td>0.0</td><td>-0.5</td><td>-0.57</td><td>-0.53</td><td>-0.43</td><td>-0.4</td><td>0.0</td></tr>\n",
       "<tr><td>g</td><td>13.0</td><td>13.0</td><td>0.0</td><td>0.0</td><td>0.0</td><td>0.0</td><td>0.0</td><td>0.0</td><td>0.0</td><td>0.0</td><td>0.0</td><td>0.0</td><td>0.0</td><td>0.0</td><td>0.0</td><td>0.0</td><td>0.0</td><td>0.0</td><td>0.0</td><td>0.0</td><td>0.0</td><td>0.0</td><td>0.1</td><td>-0.18</td><td>-0.26</td><td>-0.36</td><td>-0.4</td><td>0.0</td></tr>\n",
       "<tr><td>h</td><td>13.0</td><td>13.0</td><td>0.0</td><td>0.0</td><td>0.0</td><td>0.0</td><td>0.0</td><td>0.0</td><td>0.0</td><td>0.0</td><td>0.0</td><td>0.0</td><td>0.0</td><td>0.0</td><td>0.0</td><td>0.0</td><td>0.0</td><td>0.0</td><td>0.0</td><td>0.0</td><td>0.0</td><td>0.0</td><td>-0.9</td><td>-0.82</td><td>-0.79</td><td>-0.71</td><td>-0.6</td><td>0.0</td></tr>\n",
       "</table></div>"
      ],
      "text/plain": [
       "<QTable length=195>\n",
       " gh     n       m     1900.0   1905.0  ...   2010.0    2015.0   2020.0  2020-25\n",
       "                        nT       nT    ...     nT        nT       nT    nT / yr\n",
       "str1 float64 float64 float64  float64  ...  float64   float64  float64  float64\n",
       "---- ------- ------- -------- -------- ... --------- --------- -------- -------\n",
       "   g     1.0     0.0 -31543.0 -31464.0 ... -29496.57 -29441.46 -29404.8     5.7\n",
       "   g     1.0     1.0  -2298.0  -2298.0 ...  -1586.42  -1501.77  -1450.9     7.4\n",
       "   h     1.0     1.0   5922.0   5909.0 ...   4944.26   4795.99   4652.5   -25.9\n",
       "   g     2.0     0.0   -677.0   -728.0 ...  -2396.06  -2445.88  -2499.6   -11.0\n",
       "   g     2.0     1.0   2905.0   2928.0 ...   3026.34    3012.2   2982.0    -7.0\n",
       "   h     2.0     1.0  -1061.0  -1086.0 ...  -2708.54  -2845.41  -2991.6   -30.2\n",
       "   g     2.0     2.0    924.0   1041.0 ...   1668.17   1676.35   1677.0    -2.1\n",
       "   h     2.0     2.0   1121.0   1065.0 ...   -575.73   -642.17   -734.6   -22.4\n",
       "   g     3.0     0.0   1022.0   1037.0 ...   1339.85   1350.33   1363.2     2.2\n",
       " ...     ...     ...      ...      ... ...       ...       ...      ...     ...\n",
       "   g    13.0     9.0      0.0      0.0 ...      0.38      0.38      0.4     0.0\n",
       "   h    13.0     9.0      0.0      0.0 ...      0.49      0.48      0.5     0.0\n",
       "   g    13.0    10.0      0.0      0.0 ...      0.02      0.08      0.1     0.0\n",
       "   h    13.0    10.0      0.0      0.0 ...      0.44      0.48      0.5     0.0\n",
       "   g    13.0    11.0      0.0      0.0 ...      0.42      0.46      0.5     0.0\n",
       "   h    13.0    11.0      0.0      0.0 ...     -0.25      -0.3     -0.4     0.0\n",
       "   g    13.0    12.0      0.0      0.0 ...     -0.26     -0.35     -0.5     0.0\n",
       "   h    13.0    12.0      0.0      0.0 ...     -0.53     -0.43     -0.4     0.0\n",
       "   g    13.0    13.0      0.0      0.0 ...     -0.26     -0.36     -0.4     0.0\n",
       "   h    13.0    13.0      0.0      0.0 ...     -0.79     -0.71     -0.6     0.0"
      ]
     },
     "execution_count": 94,
     "metadata": {},
     "output_type": "execute_result"
    }
   ],
   "source": [
    "\"\"\"\n",
    "I made two changes in the header line to align the columns:\n",
    "(1) I replaced \"g/h\" with \"gh\" since the first column had only two characters.\n",
    "(2) I added a space between \"n\" and \"m\" to make sure the rest of the columns aligned properly.\n",
    "\n",
    "The first three lines of the file are skipped, but here they are:\n",
    "\n",
    "# 13th Generation International Geomagnetic Reference Field Schmidt semi-normalised spherical harmonic coefficients, degree n=1,13\n",
    "# in units nanoTesla for IGRF and definitive DGRF main-field models (degree n=1,8 nanoTesla/year for secular variation (SV))\n",
    "c/s deg ord IGRF IGRF   IGRF   IGRF   IGRF   IGRF   IGRF   IGRF   IGRF   DGRF   DGRF   DGRF   DGRF   DGRF   DGRF   DGRF   DGRF   DGRF   DGRF   DGRF     DGRF      DGRF      DGRF      DGRF     IGRF      SV\n",
    "\n",
    "\"\"\"\n",
    "\n",
    "# Input the table from a text file\n",
    "IGRF13 = QTable.read(\"igrf13coeffsmodified.txt\", \n",
    "                  format='ascii.fixed_width', \n",
    "                  header_start=1, \n",
    "                  data_start=2,\n",
    "                  col_starts=(0,2,4,8,15,22,29,36,43,50,57,64,71,78,85,92,99,106,113,120,127,134,141,148,157,167,177,187,196),\n",
    "                  delimiter = ' ') \n",
    "\n",
    "# Define the unit for the following columns\n",
    "IGRF13['n'].unit = u.dimensionless_unscaled\n",
    "IGRF13['m'].unit = u.dimensionless_unscaled\n",
    "IGRF13['2020-25'].unit = u.nT / u.year\n",
    "for i in IGRF13.colnames[3:len(IGRF13.colnames)-1]:\n",
    "    IGRF13[i].unit = u.nT\n",
    "\n",
    "# Add meta data information\n",
    "IGRF13.meta = {'Name': 'IGRF13'}\n",
    "\n",
    "# Display the initial and ending portion of the table.  \n",
    "# Uncomment \"IGRF13.show_in_notebook()\" and comment out \"IGRF13\" to display all rows with index column.\n",
    "# IGRF13.show_in_notebook()\n",
    "print(IGRF13.meta['Name'])\n",
    "IGRF13"
   ]
  },
  {
   "cell_type": "code",
   "execution_count": 175,
   "id": "08cdd3b3-8141-427a-b93b-6ea77be0b0e2",
   "metadata": {},
   "outputs": [],
   "source": [
    "\"\"\"\n",
    "This procedure creates a summary table from the IGRF data.\n",
    "\n",
    "INPUT:\n",
    "  t: The name of the IGRF table\n",
    "  form: A format for the data columns with default \n",
    "  humphreys: A flag to tell which constants are being used.\n",
    "\n",
    "\"\"\"           \n",
    "def makesummarytable(t, form='5.0f', humphreys=False):\n",
    "    # Separate calculation for each harmonics\n",
    "    def hfactor(harmonics):\n",
    "        t1 = (earthR / earthcoreR) ** ((2 * harmonics) + 1)\n",
    "        t2 = (2 * math.pi * (earthR ** 3)) / m\n",
    "        t3 = (harmonics + 1) / ((2 * harmonics) + 1)       \n",
    "        return t1 * t2 * t3 / 1e24\n",
    "\n",
    "    # Construct data for each harmonics in a column\n",
    "    def makecol(col):\n",
    "        return [hfactor(1) * np.sum(col[0:3]**2),\n",
    "                hfactor(2) * np.sum(col[3:8]**2),\n",
    "                hfactor(3) * np.sum(col[8:15]**2),\n",
    "                hfactor(4) * np.sum(col[15:24]**2),\n",
    "                hfactor(5) * np.sum(col[24:35]**2),\n",
    "                hfactor(6) * np.sum(col[35:48]**2),\n",
    "                hfactor(7) * np.sum(col[48:63]**2),\n",
    "                hfactor(8) * np.sum(col[63:80]**2),\n",
    "                hfactor(9) * np.sum(col[80:99]**2),\n",
    "                hfactor(10) * np.sum(col[99:120]**2),\n",
    "                hfactor(11) * np.sum(col[121:143]**2),\n",
    "                hfactor(12) * np.sum(col[144:168]**2),\n",
    "                hfactor(13) * np.sum(col[169:195]**2)\n",
    "               ]\n",
    "            \n",
    "    # Define names for the rows\n",
    "    rownames = ['Dipole Energy',\n",
    "                'Quadrupole E',\n",
    "                'Octopole E',\n",
    "                '4th Harmonic',\n",
    "                '5th Harmonic',\n",
    "                '6th Harmonic',\n",
    "                '7th Harmonic',\n",
    "                '8th Harmonic',\n",
    "                '9th Harmonic',\n",
    "                '10th Harmonic',\n",
    "                '11th Harmonic',\n",
    "                '12th Harmonic',\n",
    "                '13th Harmonic'\n",
    "               ]\n",
    "\n",
    "    # Construct the columns\n",
    "    if humphreys:\n",
    "        earthR = R_earth_H\n",
    "        earthcoreR = R_earth_core_H\n",
    "        m = mu0_H\n",
    "        humphreysused = 'Yes'\n",
    "    else:\n",
    "        earthR = R_earth.to(u.km)\n",
    "        earthcoreR = R_earth_core_H\n",
    "        m = mu0\n",
    "        humphreysused = 'No'\n",
    "    cols = [rownames]\n",
    "    for i in t.colnames[3:len(t.colnames)-1]:\n",
    "        cols.append(makecol(t[i]))\n",
    "\n",
    "    # Construct the names of the columns\n",
    "    colnames = ['Years']\n",
    "    for i in t.colnames[3:len(t.colnames)-1]:\n",
    "        colnames.append(i)\n",
    "\n",
    "    # Construct the metadata\n",
    "    metadata = {'Name' : 'IGRF Summary Data',\n",
    "                'Humphreys Used' : humphreysused,\n",
    "                'Earth Radius' : earthR,\n",
    "                'Earth Core Radius' : earthcoreR,\n",
    "                'Vacuum Magnetic Permeability' : m\n",
    "               }\n",
    "\n",
    "    # Create the table\n",
    "    s = QTable(cols, names=colnames, meta=metadata)\n",
    "\n",
    "    # Format the columns for printing\n",
    "    for i in s.colnames[1:len(s.colnames)]:\n",
    "        s[i].info.format = form\n",
    "        \n",
    "    return s\n",
    "\n",
    "\"\"\"\n",
    "A procedure to return the metadata for a table.\n",
    "\n",
    "INPUT:\n",
    "t : The name of the table which contains metadata.\n",
    "\"\"\"\n",
    "def displaymetadata(t):\n",
    "    for key in t.meta:\n",
    "        if key in ('Name','Humphreys Used'):\n",
    "            print('{} : {}'.format(key, t.meta[key]))\n",
    "        else:\n",
    "            print()\n",
    "            print(t.meta[key])\n"
   ]
  },
  {
   "cell_type": "code",
   "execution_count": 167,
   "id": "44b4f8d9-1a63-4b00-9670-81fc4ec00c6d",
   "metadata": {},
   "outputs": [
    {
     "data": {
      "text/html": [
       "<div><i>QTable length=13</i>\n",
       "<table id=\"table1866150702224\" class=\"table-striped table-bordered table-condensed\">\n",
       "<thead><tr><th>Years</th><th>1900.0</th><th>1905.0</th><th>1910.0</th><th>1915.0</th><th>1920.0</th><th>1925.0</th><th>1930.0</th><th>1935.0</th><th>1940.0</th><th>1945.0</th><th>1950.0</th><th>1955.0</th><th>1960.0</th><th>1965.0</th><th>1970.0</th><th>1975.0</th><th>1980.0</th><th>1985.0</th><th>1990.0</th><th>1995.0</th><th>2000.0</th><th>2005.0</th><th>2010.0</th><th>2015.0</th><th>2020.0</th></tr></thead>\n",
       "<thead><tr><th></th><th>km3 nT2 m / H</th><th>km3 nT2 m / H</th><th>km3 nT2 m / H</th><th>km3 nT2 m / H</th><th>km3 nT2 m / H</th><th>km3 nT2 m / H</th><th>km3 nT2 m / H</th><th>km3 nT2 m / H</th><th>km3 nT2 m / H</th><th>km3 nT2 m / H</th><th>km3 nT2 m / H</th><th>km3 nT2 m / H</th><th>km3 nT2 m / H</th><th>km3 nT2 m / H</th><th>km3 nT2 m / H</th><th>km3 nT2 m / H</th><th>km3 nT2 m / H</th><th>km3 nT2 m / H</th><th>km3 nT2 m / H</th><th>km3 nT2 m / H</th><th>km3 nT2 m / H</th><th>km3 nT2 m / H</th><th>km3 nT2 m / H</th><th>km3 nT2 m / H</th><th>km3 nT2 m / H</th></tr></thead>\n",
       "<thead><tr><th>str13</th><th>float64</th><th>float64</th><th>float64</th><th>float64</th><th>float64</th><th>float64</th><th>float64</th><th>float64</th><th>float64</th><th>float64</th><th>float64</th><th>float64</th><th>float64</th><th>float64</th><th>float64</th><th>float64</th><th>float64</th><th>float64</th><th>float64</th><th>float64</th><th>float64</th><th>float64</th><th>float64</th><th>float64</th><th>float64</th></tr></thead>\n",
       "<tr><td>Dipole Energy</td><td>5520</td><td>5492</td><td>5455</td><td>5406</td><td>5354</td><td>5308</td><td>5268</td><td>5238</td><td>5218</td><td>5198</td><td>5184</td><td>5166</td><td>5138</td><td>5108</td><td>5067</td><td>5024</td><td>4984</td><td>4938</td><td>4901</td><td>4867</td><td>4837</td><td>4809</td><td>4782</td><td>4756</td><td>4736</td></tr>\n",
       "<tr><td>Quadrupole E</td><td>196</td><td>202</td><td>209</td><td>216</td><td>222</td><td>228</td><td>235</td><td>242</td><td>250</td><td>260</td><td>270</td><td>279</td><td>289</td><td>297</td><td>306</td><td>317</td><td>331</td><td>345</td><td>357</td><td>370</td><td>383</td><td>396</td><td>410</td><td>426</td><td>444</td></tr>\n",
       "<tr><td>Octopole E</td><td>285</td><td>291</td><td>299</td><td>311</td><td>324</td><td>338</td><td>352</td><td>367</td><td>383</td><td>399</td><td>412</td><td>424</td><td>432</td><td>440</td><td>446</td><td>453</td><td>462</td><td>470</td><td>479</td><td>488</td><td>492</td><td>493</td><td>493</td><td>496</td><td>503</td></tr>\n",
       "<tr><td>4th Harmonic</td><td>312</td><td>318</td><td>324</td><td>330</td><td>334</td><td>337</td><td>341</td><td>345</td><td>352</td><td>372</td><td>377</td><td>374</td><td>373</td><td>369</td><td>365</td><td>359</td><td>351</td><td>345</td><td>341</td><td>339</td><td>333</td><td>328</td><td>323</td><td>318</td><td>313</td></tr>\n",
       "<tr><td>5th Harmonic</td><td>159</td><td>156</td><td>154</td><td>152</td><td>150</td><td>148</td><td>148</td><td>149</td><td>151</td><td>159</td><td>164</td><td>172</td><td>178</td><td>179</td><td>185</td><td>189</td><td>191</td><td>189</td><td>188</td><td>186</td><td>185</td><td>185</td><td>185</td><td>186</td><td>189</td></tr>\n",
       "<tr><td>6th Harmonic</td><td>157</td><td>160</td><td>161</td><td>163</td><td>166</td><td>169</td><td>170</td><td>173</td><td>175</td><td>171</td><td>170</td><td>169</td><td>166</td><td>161</td><td>150</td><td>142</td><td>137</td><td>131</td><td>127</td><td>124</td><td>120</td><td>114</td><td>105</td><td>95</td><td>88</td></tr>\n",
       "<tr><td>7th Harmonic</td><td>95</td><td>95</td><td>95</td><td>96</td><td>96</td><td>95</td><td>96</td><td>95</td><td>93</td><td>78</td><td>80</td><td>85</td><td>89</td><td>98</td><td>101</td><td>104</td><td>113</td><td>118</td><td>120</td><td>118</td><td>120</td><td>121</td><td>123</td><td>126</td><td>127</td></tr>\n",
       "<tr><td>8th Harmonic</td><td>33</td><td>33</td><td>33</td><td>33</td><td>34</td><td>35</td><td>35</td><td>36</td><td>37</td><td>38</td><td>60</td><td>49</td><td>49</td><td>42</td><td>40</td><td>41</td><td>46</td><td>50</td><td>52</td><td>61</td><td>62</td><td>64</td><td>66</td><td>66</td><td>63</td></tr>\n",
       "<tr><td>9th Harmonic</td><td>87</td><td>87</td><td>87</td><td>87</td><td>88</td><td>88</td><td>90</td><td>93</td><td>96</td><td>213</td><td>161</td><td>53</td><td>57</td><td>104</td><td>100</td><td>101</td><td>105</td><td>103</td><td>103</td><td>107</td><td>104</td><td>108</td><td>108</td><td>107</td><td>110</td></tr>\n",
       "<tr><td>10th Harmonic</td><td>55</td><td>55</td><td>55</td><td>54</td><td>56</td><td>56</td><td>56</td><td>56</td><td>56</td><td>184</td><td>258</td><td>76</td><td>51</td><td>46</td><td>42</td><td>43</td><td>53</td><td>55</td><td>51</td><td>57</td><td>56</td><td>60</td><td>63</td><td>68</td><td>71</td></tr>\n",
       "<tr><td>11th Harmonic</td><td>0</td><td>0</td><td>0</td><td>0</td><td>0</td><td>0</td><td>0</td><td>0</td><td>0</td><td>0</td><td>0</td><td>0</td><td>0</td><td>0</td><td>0</td><td>0</td><td>0</td><td>0</td><td>0</td><td>0</td><td>43</td><td>43</td><td>43</td><td>45</td><td>47</td></tr>\n",
       "<tr><td>12th Harmonic</td><td>0</td><td>0</td><td>0</td><td>0</td><td>0</td><td>0</td><td>0</td><td>0</td><td>0</td><td>0</td><td>0</td><td>0</td><td>0</td><td>0</td><td>0</td><td>0</td><td>0</td><td>0</td><td>0</td><td>0</td><td>48</td><td>48</td><td>46</td><td>42</td><td>39</td></tr>\n",
       "<tr><td>13th Harmonic</td><td>0</td><td>0</td><td>0</td><td>0</td><td>0</td><td>0</td><td>0</td><td>0</td><td>0</td><td>0</td><td>0</td><td>0</td><td>0</td><td>0</td><td>0</td><td>0</td><td>0</td><td>0</td><td>0</td><td>0</td><td>100</td><td>94</td><td>94</td><td>93</td><td>89</td></tr>\n",
       "</table></div>"
      ],
      "text/plain": [
       "<QTable length=13>\n",
       "    Years         1900.0        1905.0    ...     2015.0        2020.0   \n",
       "              km3 nT2 m / H km3 nT2 m / H ... km3 nT2 m / H km3 nT2 m / H\n",
       "    str13        float64       float64    ...    float64       float64   \n",
       "------------- ------------- ------------- ... ------------- -------------\n",
       "Dipole Energy          5520          5492 ...          4756          4736\n",
       " Quadrupole E           196           202 ...           426           444\n",
       "   Octopole E           285           291 ...           496           503\n",
       " 4th Harmonic           312           318 ...           318           313\n",
       " 5th Harmonic           159           156 ...           186           189\n",
       " 6th Harmonic           157           160 ...            95            88\n",
       " 7th Harmonic            95            95 ...           126           127\n",
       " 8th Harmonic            33            33 ...            66            63\n",
       " 9th Harmonic            87            87 ...           107           110\n",
       "10th Harmonic            55            55 ...            68            71\n",
       "11th Harmonic             0             0 ...            45            47\n",
       "12th Harmonic             0             0 ...            42            39\n",
       "13th Harmonic             0             0 ...            93            89"
      ]
     },
     "execution_count": 167,
     "metadata": {},
     "output_type": "execute_result"
    }
   ],
   "source": [
    "Summary13 = makesummarytable(IGRF13, humphreys=True)\n",
    "Summary13"
   ]
  },
  {
   "cell_type": "code",
   "execution_count": 176,
   "id": "befd5b6e-5a92-4706-bf6d-1c9efe1872c5",
   "metadata": {},
   "outputs": [
    {
     "name": "stdout",
     "output_type": "stream",
     "text": [
      "Name : IGRF Summary Data\n",
      "Humphreys Used : Yes\n",
      "\n",
      "  Name   = Humphreys' Earth radius\n",
      "  Value  = 6371.2\n",
      "  Uncertainty  = 0\n",
      "  Unit  = km\n",
      "  Reference = D. Russell Humphreys, The Earth's Magnetic Field is Still Losing Energy, CRSQ 39, 2002, p.6\n",
      "\n",
      "  Name   = Humphreys' Earth radius core\n",
      "  Value  = 3471\n",
      "  Uncertainty  = 0\n",
      "  Unit  = km\n",
      "  Reference = D. Russell Humphreys, The Earth's Magnetic Field is Still Losing Energy, CRSQ 39, 2002, p.8\n",
      "\n",
      "  Name   = Humphreys' vacuum magnetic permeability\n",
      "  Value  = 1.2566370614359173e-06\n",
      "  Uncertainty  = 0\n",
      "  Unit  = H / m\n",
      "  Reference = D. Russell Humphreys, The Creation of Earth's Magnetic Field, CRSQ 20, 1983, p.92\n"
     ]
    }
   ],
   "source": [
    "displaymetadata(Summary13)"
   ]
  },
  {
   "cell_type": "markdown",
   "id": "59f6b1a7-a6ba-479b-a74d-2311711ebc7f",
   "metadata": {},
   "source": [
    "# IGRF9 Data"
   ]
  },
  {
   "cell_type": "code",
   "execution_count": 154,
   "id": "a5f06fa9-354b-41a4-9a0a-e202f41c0250",
   "metadata": {},
   "outputs": [
    {
     "data": {
      "text/html": [
       "<div><i>QTable length=195</i>\n",
       "<table id=\"table1864177521520\" class=\"table-striped table-bordered table-condensed\">\n",
       "<thead><tr><th>g/h</th><th>n</th><th>m</th><th>1900.0</th><th>1905.0</th><th>1910.0</th><th>1915.0</th><th>1920.0</th><th>1925.0</th><th>1930.0</th><th>1935.0</th><th>1940.0</th><th>1945.0</th><th>1950.0</th><th>1955.0</th><th>1960.0</th><th>1965.0</th><th>1970.0</th><th>1975.0</th><th>1980.0</th><th>1985.0</th><th>1990.0</th><th>1995.0</th><th>2000.0</th><th>SV</th></tr></thead>\n",
       "<thead><tr><th>str1</th><th>int32</th><th>int32</th><th>float64</th><th>int32</th><th>int32</th><th>int32</th><th>int32</th><th>int32</th><th>int32</th><th>int32</th><th>int32</th><th>int32</th><th>int32</th><th>int32</th><th>int32</th><th>int32</th><th>int32</th><th>int32</th><th>int32</th><th>int32</th><th>int32</th><th>int32</th><th>float64</th><th>float64</th></tr></thead>\n",
       "<tr><td>g</td><td>1</td><td>0</td><td>-31543.0</td><td>-31464</td><td>-31354</td><td>-31212</td><td>-31060</td><td>-30926</td><td>-30805</td><td>-30715</td><td>-30654</td><td>-30594</td><td>-30554</td><td>-30500</td><td>-30421</td><td>-30334</td><td>-30220</td><td>-30100</td><td>-29992</td><td>-29873</td><td>-29775</td><td>-29692</td><td>-29619.4</td><td>13.3</td></tr>\n",
       "<tr><td>g</td><td>1</td><td>1</td><td>-2298.0</td><td>-2298</td><td>-2297</td><td>-2306</td><td>-2317</td><td>-2318</td><td>-2316</td><td>-2306</td><td>-2292</td><td>-2285</td><td>-2250</td><td>-2215</td><td>-2169</td><td>-2119</td><td>-2068</td><td>-2013</td><td>-1956</td><td>-1905</td><td>-1848</td><td>-1784</td><td>-1728.2</td><td>11.6</td></tr>\n",
       "<tr><td>h</td><td>1</td><td>1</td><td>5922.0</td><td>5909</td><td>5898</td><td>5875</td><td>5845</td><td>5817</td><td>5808</td><td>5812</td><td>5821</td><td>5810</td><td>5815</td><td>5820</td><td>5791</td><td>5776</td><td>5737</td><td>5675</td><td>5604</td><td>5500</td><td>5406</td><td>5306</td><td>5186.1</td><td>-21.2</td></tr>\n",
       "<tr><td>g</td><td>2</td><td>0</td><td>-677.0</td><td>-728</td><td>-769</td><td>-802</td><td>-839</td><td>-893</td><td>-951</td><td>-1018</td><td>-1106</td><td>-1244</td><td>-1341</td><td>-1440</td><td>-1555</td><td>-1662</td><td>-1781</td><td>-1902</td><td>-1997</td><td>-2072</td><td>-2131</td><td>-2200</td><td>-2267.7</td><td>-14.4</td></tr>\n",
       "<tr><td>g</td><td>2</td><td>1</td><td>2905.0</td><td>2928</td><td>2948</td><td>2956</td><td>2959</td><td>2969</td><td>2980</td><td>2984</td><td>2981</td><td>2990</td><td>2998</td><td>3003</td><td>3002</td><td>2997</td><td>3000</td><td>3010</td><td>3027</td><td>3044</td><td>3059</td><td>3070</td><td>3068.4</td><td>-3.7</td></tr>\n",
       "<tr><td>h</td><td>2</td><td>1</td><td>-1061.0</td><td>-1086</td><td>-1128</td><td>-1191</td><td>-1259</td><td>-1334</td><td>-1424</td><td>-1520</td><td>-1614</td><td>-1702</td><td>-1810</td><td>-1898</td><td>-1967</td><td>-2016</td><td>-2047</td><td>-2067</td><td>-2129</td><td>-2197</td><td>-2279</td><td>-2366</td><td>-2481.6</td><td>-22.7</td></tr>\n",
       "<tr><td>g</td><td>2</td><td>2</td><td>924.0</td><td>1041</td><td>1176</td><td>1309</td><td>1407</td><td>1471</td><td>1517</td><td>1550</td><td>1566</td><td>1578</td><td>1576</td><td>1581</td><td>1590</td><td>1594</td><td>1611</td><td>1632</td><td>1663</td><td>1687</td><td>1686</td><td>1681</td><td>1670.9</td><td>-3.6</td></tr>\n",
       "<tr><td>h</td><td>2</td><td>2</td><td>1121.0</td><td>1065</td><td>1000</td><td>917</td><td>823</td><td>728</td><td>644</td><td>586</td><td>528</td><td>477</td><td>381</td><td>291</td><td>206</td><td>114</td><td>25</td><td>-68</td><td>-200</td><td>-306</td><td>-373</td><td>-413</td><td>-458.0</td><td>-11.1</td></tr>\n",
       "<tr><td>g</td><td>3</td><td>0</td><td>1022.0</td><td>1037</td><td>1058</td><td>1084</td><td>1111</td><td>1140</td><td>1172</td><td>1206</td><td>1240</td><td>1282</td><td>1297</td><td>1302</td><td>1302</td><td>1297</td><td>1287</td><td>1276</td><td>1281</td><td>1296</td><td>1314</td><td>1335</td><td>1339.6</td><td>-1.1</td></tr>\n",
       "<tr><td>g</td><td>3</td><td>1</td><td>-1469.0</td><td>-1494</td><td>-1524</td><td>-1559</td><td>-1600</td><td>-1645</td><td>-1692</td><td>-1740</td><td>-1790</td><td>-1834</td><td>-1889</td><td>-1944</td><td>-1992</td><td>-2038</td><td>-2091</td><td>-2144</td><td>-2180</td><td>-2208</td><td>-2239</td><td>-2267</td><td>-2288.0</td><td>-3.5</td></tr>\n",
       "<tr><td>...</td><td>...</td><td>...</td><td>...</td><td>...</td><td>...</td><td>...</td><td>...</td><td>...</td><td>...</td><td>...</td><td>...</td><td>...</td><td>...</td><td>...</td><td>...</td><td>...</td><td>...</td><td>...</td><td>...</td><td>...</td><td>...</td><td>...</td><td>...</td><td>...</td></tr>\n",
       "<tr><td>g</td><td>13</td><td>9</td><td>0.3</td><td>--</td><td>--</td><td>--</td><td>--</td><td>--</td><td>--</td><td>--</td><td>--</td><td>--</td><td>--</td><td>--</td><td>--</td><td>--</td><td>--</td><td>--</td><td>--</td><td>--</td><td>--</td><td>--</td><td>--</td><td>--</td></tr>\n",
       "<tr><td>h</td><td>13</td><td>9</td><td>0.6</td><td>--</td><td>--</td><td>--</td><td>--</td><td>--</td><td>--</td><td>--</td><td>--</td><td>--</td><td>--</td><td>--</td><td>--</td><td>--</td><td>--</td><td>--</td><td>--</td><td>--</td><td>--</td><td>--</td><td>--</td><td>--</td></tr>\n",
       "<tr><td>g</td><td>13</td><td>10</td><td>-0.1</td><td>--</td><td>--</td><td>--</td><td>--</td><td>--</td><td>--</td><td>--</td><td>--</td><td>--</td><td>--</td><td>--</td><td>--</td><td>--</td><td>--</td><td>--</td><td>--</td><td>--</td><td>--</td><td>--</td><td>--</td><td>--</td></tr>\n",
       "<tr><td>h</td><td>13</td><td>10</td><td>0.3</td><td>--</td><td>--</td><td>--</td><td>--</td><td>--</td><td>--</td><td>--</td><td>--</td><td>--</td><td>--</td><td>--</td><td>--</td><td>--</td><td>--</td><td>--</td><td>--</td><td>--</td><td>--</td><td>--</td><td>--</td><td>--</td></tr>\n",
       "<tr><td>g</td><td>13</td><td>11</td><td>0.4</td><td>--</td><td>--</td><td>--</td><td>--</td><td>--</td><td>--</td><td>--</td><td>--</td><td>--</td><td>--</td><td>--</td><td>--</td><td>--</td><td>--</td><td>--</td><td>--</td><td>--</td><td>--</td><td>--</td><td>--</td><td>--</td></tr>\n",
       "<tr><td>h</td><td>13</td><td>11</td><td>-0.2</td><td>--</td><td>--</td><td>--</td><td>--</td><td>--</td><td>--</td><td>--</td><td>--</td><td>--</td><td>--</td><td>--</td><td>--</td><td>--</td><td>--</td><td>--</td><td>--</td><td>--</td><td>--</td><td>--</td><td>--</td><td>--</td></tr>\n",
       "<tr><td>g</td><td>13</td><td>12</td><td>0.0</td><td>--</td><td>--</td><td>--</td><td>--</td><td>--</td><td>--</td><td>--</td><td>--</td><td>--</td><td>--</td><td>--</td><td>--</td><td>--</td><td>--</td><td>--</td><td>--</td><td>--</td><td>--</td><td>--</td><td>--</td><td>--</td></tr>\n",
       "<tr><td>h</td><td>13</td><td>12</td><td>-0.5</td><td>--</td><td>--</td><td>--</td><td>--</td><td>--</td><td>--</td><td>--</td><td>--</td><td>--</td><td>--</td><td>--</td><td>--</td><td>--</td><td>--</td><td>--</td><td>--</td><td>--</td><td>--</td><td>--</td><td>--</td><td>--</td></tr>\n",
       "<tr><td>g</td><td>13</td><td>13</td><td>0.1</td><td>--</td><td>--</td><td>--</td><td>--</td><td>--</td><td>--</td><td>--</td><td>--</td><td>--</td><td>--</td><td>--</td><td>--</td><td>--</td><td>--</td><td>--</td><td>--</td><td>--</td><td>--</td><td>--</td><td>--</td><td>--</td></tr>\n",
       "<tr><td>h</td><td>13</td><td>13</td><td>-0.9</td><td>--</td><td>--</td><td>--</td><td>--</td><td>--</td><td>--</td><td>--</td><td>--</td><td>--</td><td>--</td><td>--</td><td>--</td><td>--</td><td>--</td><td>--</td><td>--</td><td>--</td><td>--</td><td>--</td><td>--</td><td>--</td></tr>\n",
       "</table></div>"
      ],
      "text/plain": [
       "<QTable length=195>\n",
       "g/h    n     m    1900.0  1905.0 ... 1985.0 1990.0 1995.0  2000.0     SV  \n",
       "str1 int32 int32 float64  int32  ... int32  int32  int32  float64  float64\n",
       "---- ----- ----- -------- ------ ... ------ ------ ------ -------- -------\n",
       "   g     1     0 -31543.0 -31464 ... -29873 -29775 -29692 -29619.4    13.3\n",
       "   g     1     1  -2298.0  -2298 ...  -1905  -1848  -1784  -1728.2    11.6\n",
       "   h     1     1   5922.0   5909 ...   5500   5406   5306   5186.1   -21.2\n",
       "   g     2     0   -677.0   -728 ...  -2072  -2131  -2200  -2267.7   -14.4\n",
       "   g     2     1   2905.0   2928 ...   3044   3059   3070   3068.4    -3.7\n",
       "   h     2     1  -1061.0  -1086 ...  -2197  -2279  -2366  -2481.6   -22.7\n",
       "   g     2     2    924.0   1041 ...   1687   1686   1681   1670.9    -3.6\n",
       "   h     2     2   1121.0   1065 ...   -306   -373   -413   -458.0   -11.1\n",
       "   g     3     0   1022.0   1037 ...   1296   1314   1335   1339.6    -1.1\n",
       "   g     3     1  -1469.0  -1494 ...  -2208  -2239  -2267  -2288.0    -3.5\n",
       " ...   ...   ...      ...    ... ...    ...    ...    ...      ...     ...\n",
       "   g    13     9      0.3     -- ...     --     --     --       --      --\n",
       "   h    13     9      0.6     -- ...     --     --     --       --      --\n",
       "   g    13    10     -0.1     -- ...     --     --     --       --      --\n",
       "   h    13    10      0.3     -- ...     --     --     --       --      --\n",
       "   g    13    11      0.4     -- ...     --     --     --       --      --\n",
       "   h    13    11     -0.2     -- ...     --     --     --       --      --\n",
       "   g    13    12      0.0     -- ...     --     --     --       --      --\n",
       "   h    13    12     -0.5     -- ...     --     --     --       --      --\n",
       "   g    13    13      0.1     -- ...     --     --     --       --      --\n",
       "   h    13    13     -0.9     -- ...     --     --     --       --      --"
      ]
     },
     "execution_count": 154,
     "metadata": {},
     "output_type": "execute_result"
    }
   ],
   "source": [
    "IGRF9 = QTable.read(\"igrf9coeffs.txt\", \n",
    "                  format='ascii.csv', \n",
    "                  header_start=0, \n",
    "                  data_start=1,\n",
    "                  delimiter = '\\t') \n",
    "IGRF9"
   ]
  },
  {
   "cell_type": "code",
   "execution_count": 155,
   "id": "638c1543-3c81-4289-a310-c8a104c017d7",
   "metadata": {},
   "outputs": [
    {
     "data": {
      "text/html": [
       "<div><i>QTable length=13</i>\n",
       "<table id=\"table1864176305024\" class=\"table-striped table-bordered table-condensed\">\n",
       "<thead><tr><th>Years</th><th>1900.0</th><th>1905.0</th><th>1910.0</th><th>1915.0</th><th>1920.0</th><th>1925.0</th><th>1930.0</th><th>1935.0</th><th>1940.0</th><th>1945.0</th><th>1950.0</th><th>1955.0</th><th>1960.0</th><th>1965.0</th><th>1970.0</th><th>1975.0</th><th>1980.0</th><th>1985.0</th><th>1990.0</th><th>1995.0</th><th>2000.0</th></tr></thead>\n",
       "<thead><tr><th></th><th>km3 m / H</th><th>km3 m / H</th><th>km3 m / H</th><th>km3 m / H</th><th>km3 m / H</th><th>km3 m / H</th><th>km3 m / H</th><th>km3 m / H</th><th>km3 m / H</th><th>km3 m / H</th><th>km3 m / H</th><th>km3 m / H</th><th>km3 m / H</th><th>km3 m / H</th><th>km3 m / H</th><th>km3 m / H</th><th>km3 m / H</th><th>km3 m / H</th><th>km3 m / H</th><th>km3 m / H</th><th>km3 m / H</th></tr></thead>\n",
       "<thead><tr><th>str13</th><th>float64</th><th>float64</th><th>float64</th><th>float64</th><th>float64</th><th>float64</th><th>float64</th><th>float64</th><th>float64</th><th>float64</th><th>float64</th><th>float64</th><th>float64</th><th>float64</th><th>float64</th><th>float64</th><th>float64</th><th>float64</th><th>float64</th><th>float64</th><th>float64</th></tr></thead>\n",
       "<tr><td>Dipole Energy</td><td>5520</td><td>5492</td><td>5455</td><td>5406</td><td>5354</td><td>5308</td><td>5268</td><td>5238</td><td>5218</td><td>5198</td><td>5184</td><td>5166</td><td>5138</td><td>5108</td><td>5067</td><td>5024</td><td>4984</td><td>4938</td><td>4901</td><td>4867</td><td>4837</td></tr>\n",
       "<tr><td>Quadrupole E</td><td>196</td><td>202</td><td>209</td><td>216</td><td>222</td><td>228</td><td>235</td><td>242</td><td>250</td><td>260</td><td>270</td><td>279</td><td>289</td><td>297</td><td>306</td><td>317</td><td>331</td><td>345</td><td>357</td><td>370</td><td>383</td></tr>\n",
       "<tr><td>Octopole E</td><td>285</td><td>291</td><td>299</td><td>311</td><td>324</td><td>338</td><td>352</td><td>367</td><td>383</td><td>399</td><td>412</td><td>424</td><td>432</td><td>440</td><td>446</td><td>453</td><td>462</td><td>470</td><td>479</td><td>488</td><td>492</td></tr>\n",
       "<tr><td>4th Harmonic</td><td>312</td><td>318</td><td>324</td><td>330</td><td>334</td><td>337</td><td>341</td><td>345</td><td>352</td><td>372</td><td>377</td><td>374</td><td>373</td><td>369</td><td>365</td><td>359</td><td>351</td><td>345</td><td>341</td><td>339</td><td>333</td></tr>\n",
       "<tr><td>5th Harmonic</td><td>159</td><td>156</td><td>154</td><td>152</td><td>150</td><td>148</td><td>148</td><td>149</td><td>151</td><td>159</td><td>164</td><td>172</td><td>178</td><td>179</td><td>185</td><td>189</td><td>191</td><td>189</td><td>188</td><td>186</td><td>185</td></tr>\n",
       "<tr><td>6th Harmonic</td><td>157</td><td>160</td><td>161</td><td>163</td><td>166</td><td>169</td><td>170</td><td>173</td><td>175</td><td>171</td><td>170</td><td>169</td><td>166</td><td>161</td><td>150</td><td>142</td><td>137</td><td>131</td><td>127</td><td>124</td><td>120</td></tr>\n",
       "<tr><td>7th Harmonic</td><td>95</td><td>95</td><td>95</td><td>96</td><td>96</td><td>95</td><td>96</td><td>95</td><td>93</td><td>78</td><td>80</td><td>85</td><td>89</td><td>98</td><td>101</td><td>104</td><td>113</td><td>118</td><td>120</td><td>118</td><td>120</td></tr>\n",
       "<tr><td>8th Harmonic</td><td>33</td><td>33</td><td>33</td><td>33</td><td>34</td><td>35</td><td>35</td><td>36</td><td>37</td><td>38</td><td>60</td><td>49</td><td>49</td><td>42</td><td>40</td><td>41</td><td>46</td><td>50</td><td>52</td><td>61</td><td>62</td></tr>\n",
       "<tr><td>9th Harmonic</td><td>87</td><td>87</td><td>87</td><td>87</td><td>88</td><td>88</td><td>90</td><td>93</td><td>96</td><td>213</td><td>161</td><td>53</td><td>57</td><td>104</td><td>100</td><td>101</td><td>105</td><td>103</td><td>103</td><td>107</td><td>104</td></tr>\n",
       "<tr><td>10th Harmonic</td><td>55</td><td>55</td><td>55</td><td>54</td><td>56</td><td>56</td><td>56</td><td>56</td><td>56</td><td>184</td><td>258</td><td>76</td><td>51</td><td>46</td><td>42</td><td>43</td><td>53</td><td>55</td><td>51</td><td>57</td><td>56</td></tr>\n",
       "<tr><td>11th Harmonic</td><td>43</td><td>0</td><td>0</td><td>0</td><td>0</td><td>0</td><td>0</td><td>0</td><td>0</td><td>0</td><td>0</td><td>0</td><td>0</td><td>0</td><td>0</td><td>0</td><td>0</td><td>0</td><td>0</td><td>0</td><td>0</td></tr>\n",
       "<tr><td>12th Harmonic</td><td>48</td><td>0</td><td>0</td><td>0</td><td>0</td><td>0</td><td>0</td><td>0</td><td>0</td><td>0</td><td>0</td><td>0</td><td>0</td><td>0</td><td>0</td><td>0</td><td>0</td><td>0</td><td>0</td><td>0</td><td>0</td></tr>\n",
       "<tr><td>13th Harmonic</td><td>100</td><td>0</td><td>0</td><td>0</td><td>0</td><td>0</td><td>0</td><td>0</td><td>0</td><td>0</td><td>0</td><td>0</td><td>0</td><td>0</td><td>0</td><td>0</td><td>0</td><td>0</td><td>0</td><td>0</td><td>0</td></tr>\n",
       "</table></div>"
      ],
      "text/plain": [
       "<QTable length=13>\n",
       "    Years       1900.0    1905.0    1910.0  ...   1990.0    1995.0    2000.0 \n",
       "              km3 m / H km3 m / H km3 m / H ... km3 m / H km3 m / H km3 m / H\n",
       "    str13      float64   float64   float64  ...  float64   float64   float64 \n",
       "------------- --------- --------- --------- ... --------- --------- ---------\n",
       "Dipole Energy      5520      5492      5455 ...      4901      4867      4837\n",
       " Quadrupole E       196       202       209 ...       357       370       383\n",
       "   Octopole E       285       291       299 ...       479       488       492\n",
       " 4th Harmonic       312       318       324 ...       341       339       333\n",
       " 5th Harmonic       159       156       154 ...       188       186       185\n",
       " 6th Harmonic       157       160       161 ...       127       124       120\n",
       " 7th Harmonic        95        95        95 ...       120       118       120\n",
       " 8th Harmonic        33        33        33 ...        52        61        62\n",
       " 9th Harmonic        87        87        87 ...       103       107       104\n",
       "10th Harmonic        55        55        55 ...        51        57        56\n",
       "11th Harmonic        43         0         0 ...         0         0         0\n",
       "12th Harmonic        48         0         0 ...         0         0         0\n",
       "13th Harmonic       100         0         0 ...         0         0         0"
      ]
     },
     "execution_count": 155,
     "metadata": {},
     "output_type": "execute_result"
    }
   ],
   "source": [
    "Summary9 = makesummarytable(IGRF9, humphreys=True)\n",
    "Summary9"
   ]
  },
  {
   "cell_type": "code",
   "execution_count": null,
   "id": "0facc7ee-16a6-480a-b37b-4adf45e13a08",
   "metadata": {},
   "outputs": [],
   "source": []
  }
 ],
 "metadata": {
  "kernelspec": {
   "display_name": "Python 3 (ipykernel)",
   "language": "python",
   "name": "python3"
  },
  "language_info": {
   "codemirror_mode": {
    "name": "ipython",
    "version": 3
   },
   "file_extension": ".py",
   "mimetype": "text/x-python",
   "name": "python",
   "nbconvert_exporter": "python",
   "pygments_lexer": "ipython3",
   "version": "3.12.1"
  }
 },
 "nbformat": 4,
 "nbformat_minor": 5
}
